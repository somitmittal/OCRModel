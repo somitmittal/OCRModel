{
 "cells": [
  {
   "cell_type": "code",
   "execution_count": 28,
   "metadata": {
    "colab": {
     "autoexec": {
      "startup": false,
      "wait_interval": 0
     },
     "base_uri": "https://localhost:8080/",
     "height": 2512,
     "resources": {
      "http://localhost:8080/nbextensions/google.colab/files.js": {
       "data": "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",
       "headers": [
        [
         "content-type",
         "application/javascript"
        ]
       ],
       "ok": true,
       "status": 200,
       "status_text": "OK"
      }
     }
    },
    "colab_type": "code",
    "executionInfo": {
     "elapsed": 202747,
     "status": "ok",
     "timestamp": 1528347647741,
     "user": {
      "displayName": "Somit Mittal",
      "photoUrl": "https://lh3.googleusercontent.com/a/default-user=s128",
      "userId": "101848872239276660668"
     },
     "user_tz": -330
    },
    "id": "o0gkdBJQd9kO",
    "outputId": "890ebd89-51af-4476-f3a6-7a47ac802c47"
   },
   "outputs": [],
   "source": [
    "# from google.colab import files\n",
    "# uploaded = files.upload()"
   ]
  },
  {
   "cell_type": "code",
   "execution_count": 18,
   "metadata": {},
   "outputs": [],
   "source": [
    "import os\n",
    "font_dir='/home/DataAugmentation/font/TTF'\n",
    "fonts=[]\n",
    "for font in os.listdir(font_dir):\n",
    "    fonts.append(os.path.join(font_dir,font))"
   ]
  },
  {
   "cell_type": "code",
   "execution_count": 19,
   "metadata": {
    "colab": {
     "autoexec": {
      "startup": false,
      "wait_interval": 0
     },
     "base_uri": "https://localhost:8080/",
     "height": 34
    },
    "colab_type": "code",
    "executionInfo": {
     "elapsed": 849,
     "status": "ok",
     "timestamp": 1528354015209,
     "user": {
      "displayName": "Somit Mittal",
      "photoUrl": "https://lh3.googleusercontent.com/a/default-user=s128",
      "userId": "101848872239276660668"
     },
     "user_tz": -330
    },
    "id": "adGuZgKBfrSw",
    "outputId": "45b03033-1938-49aa-a846-539c1ad5372f"
   },
   "outputs": [
    {
     "name": "stdout",
     "output_type": "stream",
     "text": [
      "71\n"
     ]
    }
   ],
   "source": [
    "# for fn in uploaded.keys():\n",
    "#   print('User uploaded file \"{name}\" with length {length} bytes'.format(\n",
    "#       name=fn, length=len(uploaded[fn])))\n",
    "fonts[0]\n",
    "print len(fonts)"
   ]
  },
  {
   "cell_type": "code",
   "execution_count": 20,
   "metadata": {
    "colab": {
     "autoexec": {
      "startup": false,
      "wait_interval": 0
     }
    },
    "colab_type": "code",
    "id": "SYv3HXsT3XYA"
   },
   "outputs": [],
   "source": [
    "from PIL import Image  \n",
    "from PIL import ImageDraw  \n",
    "from PIL import ImageFont  \n",
    "import textwrap\n",
    "import os  \n",
    "from random import randint  \n",
    "import textwrap\n",
    "import shutil\n",
    "import numpy as np"
   ]
  },
  {
   "cell_type": "code",
   "execution_count": 21,
   "metadata": {
    "colab": {
     "autoexec": {
      "startup": false,
      "wait_interval": 0
     },
     "base_uri": "https://localhost:8080/",
     "height": 52
    },
    "colab_type": "code",
    "executionInfo": {
     "elapsed": 2588,
     "status": "ok",
     "timestamp": 1528356559170,
     "user": {
      "displayName": "Somit Mittal",
      "photoUrl": "https://lh3.googleusercontent.com/a/default-user=s128",
      "userId": "101848872239276660668"
     },
     "user_tz": -330
    },
    "id": "wq7yZPfGHorz",
    "outputId": "4d04725b-0aa2-49d5-8094-984782b3186b"
   },
   "outputs": [],
   "source": [
    "# !ln -sf /opt/bin/nvidia-smi /usr/bin/nvidia-smi\n",
    "# !pip install gputil\n",
    "# !pip install psutil\n",
    "# !pip install humanize\n",
    "# import psutil\n",
    "# import humanize\n",
    "# import os\n",
    "# import GPUtil as GPU\n",
    "# GPUs = GPU.getGPUs()\n",
    "# # XXX: only one GPU on Colab and isn’t guaranteed\n",
    "# gpu = GPUs[0]\n",
    "# def printm():\n",
    "#   process = psutil.Process(os.getpid())\n",
    "#   print(\"Gen RAM Free: \" + humanize.naturalsize( psutil.virtual_memory().available ), \" I Proc size: \" + humanize.naturalsize( process.memory_info().rss))\n",
    "#   print(\"GPU RAM Free: {0:.0f}MB | Used: {1:.0f}MB | Util {2:3.0f}% | Total {3:.0f}MB\".format(gpu.memoryFree, gpu.memoryUsed, gpu.memoryUtil*100, gpu.memoryTotal))\n",
    "# printm()"
   ]
  },
  {
   "cell_type": "code",
   "execution_count": 22,
   "metadata": {
    "colab": {
     "autoexec": {
      "startup": false,
      "wait_interval": 0
     }
    },
    "colab_type": "code",
    "id": "OYqSd6_63fp9"
   },
   "outputs": [],
   "source": [
    "import tensorflow"
   ]
  },
  {
   "cell_type": "code",
   "execution_count": 23,
   "metadata": {
    "colab": {
     "autoexec": {
      "startup": false,
      "wait_interval": 0
     }
    },
    "colab_type": "code",
    "id": "g3Hz3t753XYb"
   },
   "outputs": [],
   "source": [
    "# import the necessary packages\n",
    "from keras.models import Sequential\n",
    "from keras.layers.convolutional import Convolution2D\n",
    "from keras.layers.convolutional import MaxPooling2D\n",
    "from keras.layers.core import Activation\n",
    "from keras.layers.core import Flatten\n",
    "from keras.layers.core import Dense, Dropout\n",
    "from keras.preprocessing.image import img_to_array\n",
    "from sklearn.model_selection import train_test_split\n",
    "from keras.utils import to_categorical\n",
    "from keras.optimizers import Adam\n",
    "from sklearn.preprocessing import LabelBinarizer\n",
    "import numpy as np\n",
    "from PIL import Image\n",
    "import os\n",
    "import cv2\n",
    "\n",
    "\n",
    "def LeNetbuild(width, height, depth, classes, weightsPath=None):\n",
    "    # initialize the model\n",
    "    model = Sequential()\n",
    "        # first set of CONV => RELU => POOL\n",
    "    model.add(Convolution2D(20, 3, 3, border_mode=\"same\",\n",
    "        input_shape=(height, width, depth)))\n",
    "    model.add(Activation(\"relu\"))\n",
    "    model.add(MaxPooling2D(pool_size=(2, 2), strides=(2, 2)))\n",
    "    model.add(Dropout(0.25))\n",
    "        # second set of CONV => RELU => POOL\n",
    "    model.add(Convolution2D(50, 5, 5, border_mode=\"same\"))\n",
    "    model.add(Activation(\"relu\"))\n",
    "    model.add(MaxPooling2D(pool_size=(2, 2), strides=(2, 2)))\n",
    "    model.add(Dropout(0.3))\n",
    "        # set of FC => RELU layers\n",
    "    model.add(Flatten())\n",
    "    model.add(Dense(500))\n",
    "    model.add(Activation(\"relu\"))\n",
    "        # softmax classifier\n",
    "    model.add(Dense(classes))\n",
    "    model.add(Activation(\"softmax\"))\n",
    "    # if a weights path is supplied (inicating that the model was\n",
    "    # pre-trained), then load the weights\n",
    "    if weightsPath is not None:\n",
    "        model.load_weights(weightsPath)\n",
    "\n",
    "    # return the constructed network architecture\n",
    "    return model"
   ]
  },
  {
   "cell_type": "code",
   "execution_count": 24,
   "metadata": {
    "colab": {
     "autoexec": {
      "startup": false,
      "wait_interval": 0
     }
    },
    "colab_type": "code",
    "id": "-nYQasK4clAr"
   },
   "outputs": [],
   "source": [
    "from PIL import Image\n",
    "import cv2\n",
    "import numpy as np\n",
    "\n",
    "\n",
    "def connectedcomponents(img):\n",
    "    NL = 0;LABELS = 1;STATS = 2;CENTROIDS= 3\n",
    "    _, binimg = cv2.threshold(img, 192, 255, cv2.THRESH_BINARY)\n",
    "    invbinimg = cv2.bitwise_not(binimg)\n",
    "    cc = cv2.connectedComponentsWithStats(invbinimg, connectivity=8, ltype=cv2.CV_32S)\n",
    "\n",
    "    candidates = []\n",
    "    for i in range(1, cc[NL]):\n",
    "        l,t,w,h,a = cc[STATS][i]\n",
    "        candidates.append((i,(l,t,l+w,t+h)))\n",
    "\n",
    "    for i in range(len(candidates)):\n",
    "        start_x=candidates[i][1][0]\n",
    "        start_y=candidates[i][1][1]\n",
    "        end_x=candidates[i][1][2]\n",
    "        end_y=candidates[i][1][3]\n",
    "        character=img[start_y:end_y,start_x:end_x]\n",
    "        height,width=character.shape[0],character.shape[1] \n",
    "        nheight=18\n",
    "        nwidth=int(round(width*(18.0/height)))\n",
    "        msize=max(nheight+4,nwidth+2)\n",
    "        image=Image.fromarray(character)\n",
    "        image=image.resize((nwidth,nheight))\n",
    "        char_image = Image.new('L',(msize,msize),255)\n",
    "        offset = (1,4)\n",
    "        char_image.paste(image, offset)\n",
    "        return char_image\n"
   ]
  },
  {
   "cell_type": "code",
   "execution_count": 25,
   "metadata": {
    "colab": {
     "autoexec": {
      "startup": false,
      "wait_interval": 0
     }
    },
    "colab_type": "code",
    "id": "jwFQeT2avAJA"
   },
   "outputs": [],
   "source": [
    "import numpy as np\n",
    "import os\n",
    "import cv2\n",
    "\n",
    "def noisy(noise_typ,image):\n",
    "    if noise_typ == \"gauss\":\n",
    "        row,col= image.shape\n",
    "        mean = 0\n",
    "        sigma = 24\n",
    "        gauss = np.random.normal(mean,sigma,(row,col))\n",
    "        ln = image + gauss/10\n",
    "        mn = image + gauss/3\n",
    "        hn = image + gauss\n",
    "#         np.clip(ln, 0,255,out=ln)\n",
    "#         np.clip(mn, 0,255,out=mn)\n",
    "#         np.clip(hn, 0,255,out=hn)\n",
    "        return [ln,mn,hn]\n",
    "    elif noise_typ == \"s&p\":\n",
    "        row,col= image.shape\n",
    "        salt = np.copy(image)\n",
    "        num_salt = np.random.randint(1,8)\n",
    "        coords = [np.random.randint(1, i-1, int(num_salt)) for i in image.shape[:2]]\n",
    "        hns = num_salt/2\n",
    "        if hns > 0:\n",
    "            modcoords = [coord[:hns] for coord in coords]\n",
    "            modcoords[0] += np.random.randint(-1,2, hns)\n",
    "            modcoords[1] += np.random.randint(-1,2, hns)\n",
    "            salt[modcoords] = 255\n",
    "        salt[coords] = 255\n",
    "        pepper = np.copy(image)\n",
    "        num_pepper = np.random.randint(1,8)\n",
    "        coords = [np.random.randint(1, i-1, int(num_pepper)) for i in image.shape[:2]]\n",
    "        hns = num_pepper/2\n",
    "        if hns > 0:\n",
    "            modcoords = [coord[:hns] for coord in coords]\n",
    "            modcoords[0] += np.random.randint(-1,2, hns)\n",
    "            modcoords[1] += np.random.randint(-1,2, hns)\n",
    "            pepper[modcoords] = 128\n",
    "        pepper[coords] = 128\n",
    "        return [salt, pepper]\n",
    "    elif noise_typ ==\"speckle\":\n",
    "        row,col = image.shape\n",
    "        gauss = np.random.randn(row,col)\n",
    "        ln = image + image * gauss/6\n",
    "        mn=image + image * gauss/4\n",
    "        #     high_noisy=image + image * gauss/2\n",
    "        np.clip(ln, 0,255,out=ln)\n",
    "        np.clip(mn, 0,255,out=mn)\n",
    "        return [ln,mn]\n",
    "    elif noise_typ=='downscale':\n",
    "        ds1=image.copy()\n",
    "        ds1[ds1 < 128] += 64\n",
    "        ds2=image.copy()\n",
    "        ds2[ds2 < 128] += 100\n",
    "        return [ds1.astype(np.uint8),ds2.astype(np.uint8)]\n",
    "    elif noise_typ==\"translation\":\n",
    "        copy=image[:,0:-2]\n",
    "        b=np.full([copy.shape[0],2], 255, np.uint8)\n",
    "        translated=np.append(b,copy,axis=1)\n",
    "        return [translated]\n"
   ]
  },
  {
   "cell_type": "code",
   "execution_count": 52,
   "metadata": {},
   "outputs": [
    {
     "name": "stdout",
     "output_type": "stream",
     "text": [
      "[[ 40.34541078  15.33579919 -14.98227031 -25.50322889]\n",
      " [-31.0142285  -11.48817302 -15.26672506 -56.44674336]\n",
      " [ -1.48847526  -6.80019226  13.50691879   2.67967844]\n",
      " [ 13.01248654  45.4495772  -16.54998827  45.48824048]]\n"
     ]
    }
   ],
   "source": [
    "gauss = np.random.normal(0,24,(4,4))\n",
    "print gauss"
   ]
  },
  {
   "cell_type": "code",
   "execution_count": 50,
   "metadata": {},
   "outputs": [
    {
     "name": "stdout",
     "output_type": "stream",
     "text": [
      "[[255 255 255 255 255 255 255 255 255 255 255 255 255 255 255 255]\n",
      " [255 160 139 141 139 139 140 139 141 152 181 185 250 255 253 255]\n",
      " [255 148 117 119 117 117 116 117 120  74  94 170 249 255 252 255]\n",
      " [255 255 255 255 255 255 255 255 255 143 191 254 255 255 254 255]\n",
      " [255 255 255 255 255 255 255 255 240 189 143 255 255 253 255 255]\n",
      " [255 253 251 251 251 247 250 240 131 140 220 254 255 254 255 255]\n",
      " [255 255 255 255 255 251 255 226 136 170 255 253 255 255 255 255]\n",
      " [255 255 255 255 254 255 242 173 178 201 253 252 255 255 255 255]\n",
      " [255 255 255 255 251 254 188 153 192 250 254 254 255 255 255 255]\n",
      " [255 255 255 255 252 255 157 139 233 255 251 255 255 255 255 255]\n",
      " [255 255 253 255 255 195 188 158 245 253 251 255 255 255 255 255]\n",
      " [255 255 252 255 255 175 162 245 255 255 254 255 255 255 255 255]\n",
      " [255 253 254 253 224 166 128 255 255 252 255 255 255 255 255 255]\n",
      " [255 250 255 250 183 187 216 254 255 253 255 255 255 255 255 255]\n",
      " [255 252 251 208 131 166 255 253 255 255 255 255 255 255 255 255]\n",
      " [254 255 244 171 154 191 253 252 255 255 255 255 255 255 255 255]]\n",
      "[[255 255 255 255 255 255 255 255 255 255 255 255 255 255 255 255]\n",
      " [255 160 175 177 175 175 176 175 177 188 217 185 250 255 253 255]\n",
      " [255 148 153 155 153 153 152 153 156 110 130 170 249 255 252 255]\n",
      " [255 255 255 255 255 255 255 255 255 143 227 254 255 255 254 255]\n",
      " [255 255 255 255 255 255 255 255 240 225 143 255 255 253 255 255]\n",
      " [255 253 251 251 251 247 250 240 131 140 220 254 255 254 255 255]\n",
      " [255 255 255 255 255 251 255 226 172 170 255 253 255 255 255 255]\n",
      " [255 255 255 255 254 255 242 173 214 201 253 252 255 255 255 255]\n",
      " [255 255 255 255 251 254 188 189 192 250 254 254 255 255 255 255]\n",
      " [255 255 255 255 252 255 157 175 233 255 251 255 255 255 255 255]\n",
      " [255 255 253 255 255 195 224 158 245 253 251 255 255 255 255 255]\n",
      " [255 255 252 255 255 211 198 245 255 255 254 255 255 255 255 255]\n",
      " [255 253 254 253 224 202 128 255 255 252 255 255 255 255 255 255]\n",
      " [255 250 255 250 219 223 216 254 255 253 255 255 255 255 255 255]\n",
      " [255 252 251 208 167 166 255 253 255 255 255 255 255 255 255 255]\n",
      " [254 255 244 171 190 191 253 252 255 255 255 255 255 255 255 255]]\n"
     ]
    }
   ],
   "source": [
    "img=Image.open('/home/561_GothamLight.ttffs16.png')\n",
    "image=np.asarray(img)\n",
    "ds1=image.copy()\n",
    "ds1[ds1 < 128] += 64\n",
    "ds2=image.copy()\n",
    "ds2[ds2 < 128] += 100\n",
    "# ds1=ds1.astype(np.uint8)\n",
    "# ds2=ds2.astype(np.uint8)\n",
    "print ds1\n",
    "print ds2"
   ]
  },
  {
   "cell_type": "code",
   "execution_count": 55,
   "metadata": {
    "colab": {
     "autoexec": {
      "startup": false,
      "wait_interval": 0
     }
    },
    "colab_type": "code",
    "id": "nBRjRsZvcyqk"
   },
   "outputs": [
    {
     "ename": "SyntaxError",
     "evalue": "invalid syntax (<ipython-input-55-1c3ccc0acc01>, line 32)",
     "output_type": "error",
     "traceback": [
      "\u001b[0;36m  File \u001b[0;32m\"<ipython-input-55-1c3ccc0acc01>\"\u001b[0;36m, line \u001b[0;32m32\u001b[0m\n\u001b[0;31m    i+=1\u001b[0m\n\u001b[0m    ^\u001b[0m\n\u001b[0;31mSyntaxError\u001b[0m\u001b[0;31m:\u001b[0m invalid syntax\n"
     ]
    }
   ],
   "source": [
    "data=[]\n",
    "labels=[]\n",
    "noises=['s&p','gauss','speckle','downscale','translation']\n",
    "def GenerateCharacters(): \n",
    "    for filename in fonts: \n",
    "        for char in characters:\n",
    "            if filename.lower().find('futur')!=-1 and char=='j':\n",
    "                continue;\n",
    "            for font_size in font_sizes:\n",
    "                font =ImageFont.truetype(filename, font_size) \n",
    "                (font_width,font_height) = font.getsize(char) \n",
    "                msize=max(font_width,font_height)\n",
    "                char_image = Image.new('L',(msize,msize),background_color)  \n",
    "                draw = ImageDraw.Draw(char_image) \n",
    "                if filename.lower().find('italic')!=-1:\n",
    "                    offset = (2,0)\n",
    "                else:\n",
    "                    offset=(0,0)\n",
    "                draw.text(offset,char,fillcolor,font=font)\n",
    "                if char in ['.',',','-','r','u','n','e','o','a']:\n",
    "                    char_image=np.asarray(char_image)\n",
    "                    char_image=connectedcomponents(char_image) \n",
    "                char_image=char_image.resize((22,22))\n",
    "                char_image=np.asarray(char_image)\n",
    "                final_image=cv2.bitwise_not(char_image)\n",
    "                newpath='/home/Desktop/Integrand/DataAugmentation/Noisy/'\n",
    "                for noise in noises:\n",
    "                    nimages = noisy(noise,char_image)\n",
    "                    i=1\n",
    "                    for nimg in nimages:\n",
    "                        nimg.save(os.path.join(newpath,noise+char+str(i))\n",
    "                        i+=1"
   ]
  },
  {
   "cell_type": "code",
   "execution_count": 29,
   "metadata": {
    "colab": {
     "autoexec": {
      "startup": false,
      "wait_interval": 0
     },
     "base_uri": "https://localhost:8080/",
     "height": 34
    },
    "colab_type": "code",
    "executionInfo": {
     "elapsed": 802,
     "status": "ok",
     "timestamp": 1528355670545,
     "user": {
      "displayName": "Somit Mittal",
      "photoUrl": "https://lh3.googleusercontent.com/a/default-user=s128",
      "userId": "101848872239276660668"
     },
     "user_tz": -330
    },
    "id": "Uud9uyvDiuWN",
    "outputId": "ec0b5673-d607-4bc1-bbc6-7a364cbcf2a9"
   },
   "outputs": [
    {
     "name": "stdout",
     "output_type": "stream",
     "text": [
      "73\n"
     ]
    }
   ],
   "source": [
    "from string import letters,digits,punctuation\n",
    "import string\n",
    "knownpuncs = \"%$+-/&)(@.,\"\n",
    "digits=list(digits)\n",
    "letters=list(letters)\n",
    "knownpuncs=list(knownpuncs)\n",
    "classes=len(digits)+len(letters)+len(knownpuncs)\n",
    "print classes\n"
   ]
  },
  {
   "cell_type": "code",
   "execution_count": 30,
   "metadata": {
    "colab": {
     "autoexec": {
      "startup": false,
      "wait_interval": 0
     }
    },
    "colab_type": "code",
    "id": "qFzptxw2kgNp"
   },
   "outputs": [],
   "source": [
    "fillcolor=0\n",
    "background_color=255\n",
    "characters=digits+letters+knownpuncs\n",
    "medium_sizes = [22,23,24,25,26,27]\n",
    "large_sizes = [32, 36, 40]\n",
    "\n",
    "font_sizes=medium_sizes+large_sizes\n",
    "GenerateCharacters()"
   ]
  },
  {
   "cell_type": "code",
   "execution_count": 44,
   "metadata": {
    "colab": {
     "autoexec": {
      "startup": false,
      "wait_interval": 0
     },
     "base_uri": "https://localhost:8080/",
     "height": 39
    },
    "colab_type": "code",
    "executionInfo": {
     "elapsed": 963,
     "status": "ok",
     "timestamp": 1528356127586,
     "user": {
      "displayName": "Somit Mittal",
      "photoUrl": "https://lh3.googleusercontent.com/a/default-user=s128",
      "userId": "101848872239276660668"
     },
     "user_tz": -330
    },
    "id": "tq_yRcitGVoR",
    "outputId": "36ac267d-6fd6-4fac-b6c2-346039b357ef"
   },
   "outputs": [
    {
     "name": "stdout",
     "output_type": "stream",
     "text": [
      "[[  0   0   0   0   0   0   0   0   0   0   0   0   0   0   0   0   0   0\n",
      "    0   0   0   0]\n",
      " [  0   0   0   0   0   0   0   0   0   0   0   0   0   0   0   0   0   0\n",
      "    0   0   0   0]\n",
      " [  0   0   0   0   0   0   0   0   0   0   0   0   0   0   0   0   0   0\n",
      "    0   0   0   0]\n",
      " [  0   0   0   0   0   0   0   0   0   0   0   0   0   0   0   0   0   0\n",
      "    0   0   0   0]\n",
      " [  0   0   0   0   0   0   0   0   0   0   0   0   0   0   0   0   0   0\n",
      "    0   0   0   0]\n",
      " [  0   0   0   0   0   0   0   0   0   0   0   0   0   0   0   0   0   0\n",
      "    0   0   0   0]\n",
      " [  0   0   0   0 186 241 231 147  17   0   0   0   0   0   0   0   0   0\n",
      "    0   0   0   0]\n",
      " [  0   0   0 110 140  19  37 203 221  27   0   0   0   0   0   0   0   0\n",
      "    0   0   0   0]\n",
      " [  0   0  70 254   0   0   0  32 251 199   2   0   0   0   0   0   0   0\n",
      "    0   0   0   0]\n",
      " [  0   3 216 255   0   0   0   0 176 255 101   0   0   0   0   0   0   0\n",
      "    0   0   0   0]\n",
      " [  0  67 255 251   0   0   0   0 115 255 209   0   0   0   0   0   0   0\n",
      "    0   0   0   0]\n",
      " [  0 205 255 188   0   0   0   0  39 255 255   0   0   0   0   0   0   0\n",
      "    0   0   0   0]\n",
      " [  0 230 255 163   0   0   0   0  24 255 255   0   0   0   0   0   0   0\n",
      "    0   0   0   0]\n",
      " [  0 250 255 153   0   0   0   0  14 255 255   0   0   0   0   0   0   0\n",
      "    0   0   0   0]\n",
      " [  3 255 255 146   0   0   0   0  19 255 255   0   0   0   0   0   0   0\n",
      "    0   0   0   0]\n",
      " [  0 244 255 152   0   0   0   0  28 255 255   0   0   0   0   0   0   0\n",
      "    0   0   0   0]\n",
      " [  0 210 255 169   0   0   0   0  47 255 255   0   0   0   0   0   0   0\n",
      "    0   0   0   0]\n",
      " [  0 157 255 201   0   0   0   0  77 255 255   0   0   0   0   0   0   0\n",
      "    0   0   0   0]\n",
      " [  0   3 220 255   0   0   0   0 185 255  99   0   0   0   0   0   0   0\n",
      "    0   0   0   0]\n",
      " [  0   0  75 255   0   0   0  41 253 204   3   0   0   0   0   0   0   0\n",
      "    0   0   0   0]\n",
      " [  0   0   0 128 116  12  58 218 218  29   0   0   0   0   0   0   0   0\n",
      "    0   0   0   0]\n",
      " [  0   0   0   0 203 245 217 125  12   0   0   0   0   0   0   0   0   0\n",
      "    0   0   0   0]]\n"
     ]
    }
   ],
   "source": [
    "i=55\n",
    "# Image.fromarray(data[i])\n",
    "print data[i]"
   ]
  },
  {
   "cell_type": "code",
   "execution_count": 32,
   "metadata": {
    "colab": {
     "autoexec": {
      "startup": false,
      "wait_interval": 0
     },
     "base_uri": "https://localhost:8080/",
     "height": 34
    },
    "colab_type": "code",
    "executionInfo": {
     "elapsed": 1640,
     "status": "ok",
     "timestamp": 1528356146941,
     "user": {
      "displayName": "Somit Mittal",
      "photoUrl": "https://lh3.googleusercontent.com/a/default-user=s128",
      "userId": "101848872239276660668"
     },
     "user_tz": -330
    },
    "id": "epPfvpKTG2K-",
    "outputId": "4bbbcf34-088d-4777-86b5-215acf78bb30"
   },
   "outputs": [
    {
     "name": "stdout",
     "output_type": "stream",
     "text": [
      "2\n"
     ]
    }
   ],
   "source": [
    "print labels[i]"
   ]
  },
  {
   "cell_type": "code",
   "execution_count": 0,
   "metadata": {
    "colab": {
     "autoexec": {
      "startup": false,
      "wait_interval": 0
     }
    },
    "colab_type": "code",
    "id": "fZ6qN9Vi3XYp"
   },
   "outputs": [],
   "source": [
    "data=np.array(data,dtype=\"float\")/255.0\n",
    "labels=np.array(labels)"
   ]
  },
  {
   "cell_type": "code",
   "execution_count": 71,
   "metadata": {
    "colab": {
     "autoexec": {
      "startup": false,
      "wait_interval": 0
     },
     "base_uri": "https://localhost:8080/",
     "height": 52
    },
    "colab_type": "code",
    "executionInfo": {
     "elapsed": 967,
     "status": "ok",
     "timestamp": 1528357878331,
     "user": {
      "displayName": "Somit Mittal",
      "photoUrl": "https://lh3.googleusercontent.com/a/default-user=s128",
      "userId": "101848872239276660668"
     },
     "user_tz": -330
    },
    "id": "J1_PxAY03XY8",
    "outputId": "625e9698-fe2f-42ea-9eae-67c2107353c3"
   },
   "outputs": [
    {
     "name": "stdout",
     "output_type": "stream",
     "text": [
      "['0' '0' '0' ... ',' ',' ',']\n",
      "(511335, 22, 22, 1) (511335,)\n"
     ]
    }
   ],
   "source": [
    "print labels\n",
    "data = data.reshape(data.shape[0], 22,22,1)\n",
    "print data.shape, labels.shape"
   ]
  },
  {
   "cell_type": "code",
   "execution_count": 72,
   "metadata": {
    "colab": {
     "autoexec": {
      "startup": false,
      "wait_interval": 0
     },
     "base_uri": "https://localhost:8080/",
     "height": 8787
    },
    "colab_type": "code",
    "executionInfo": {
     "elapsed": 798,
     "status": "ok",
     "timestamp": 1528357881486,
     "user": {
      "displayName": "Somit Mittal",
      "photoUrl": "https://lh3.googleusercontent.com/a/default-user=s128",
      "userId": "101848872239276660668"
     },
     "user_tz": -330
    },
    "id": "gE_K1To_3XZR",
    "outputId": "c9de7849-2d1d-4c7c-8ad6-8e2cebf65739"
   },
   "outputs": [
    {
     "name": "stdout",
     "output_type": "stream",
     "text": [
      "[[[0.0000000e+00]\n",
      "  [0.0000000e+00]\n",
      "  [0.0000000e+00]\n",
      "  [0.0000000e+00]\n",
      "  [0.0000000e+00]\n",
      "  [0.0000000e+00]\n",
      "  [0.0000000e+00]\n",
      "  [0.0000000e+00]\n",
      "  [0.0000000e+00]\n",
      "  [0.0000000e+00]\n",
      "  [0.0000000e+00]\n",
      "  [0.0000000e+00]\n",
      "  [0.0000000e+00]\n",
      "  [0.0000000e+00]\n",
      "  [0.0000000e+00]\n",
      "  [0.0000000e+00]\n",
      "  [0.0000000e+00]\n",
      "  [0.0000000e+00]\n",
      "  [0.0000000e+00]\n",
      "  [0.0000000e+00]\n",
      "  [0.0000000e+00]\n",
      "  [0.0000000e+00]]\n",
      "\n",
      " [[0.0000000e+00]\n",
      "  [0.0000000e+00]\n",
      "  [0.0000000e+00]\n",
      "  [0.0000000e+00]\n",
      "  [0.0000000e+00]\n",
      "  [0.0000000e+00]\n",
      "  [0.0000000e+00]\n",
      "  [0.0000000e+00]\n",
      "  [0.0000000e+00]\n",
      "  [0.0000000e+00]\n",
      "  [0.0000000e+00]\n",
      "  [0.0000000e+00]\n",
      "  [0.0000000e+00]\n",
      "  [0.0000000e+00]\n",
      "  [0.0000000e+00]\n",
      "  [0.0000000e+00]\n",
      "  [0.0000000e+00]\n",
      "  [0.0000000e+00]\n",
      "  [0.0000000e+00]\n",
      "  [0.0000000e+00]\n",
      "  [0.0000000e+00]\n",
      "  [0.0000000e+00]]\n",
      "\n",
      " [[0.0000000e+00]\n",
      "  [0.0000000e+00]\n",
      "  [0.0000000e+00]\n",
      "  [0.0000000e+00]\n",
      "  [0.0000000e+00]\n",
      "  [1.1072665e-03]\n",
      "  [2.7066513e-03]\n",
      "  [3.5524799e-03]\n",
      "  [3.5524799e-03]\n",
      "  [3.8446751e-03]\n",
      "  [3.5678586e-03]\n",
      "  [2.7220300e-03]\n",
      "  [1.1380239e-03]\n",
      "  [0.0000000e+00]\n",
      "  [0.0000000e+00]\n",
      "  [0.0000000e+00]\n",
      "  [0.0000000e+00]\n",
      "  [0.0000000e+00]\n",
      "  [0.0000000e+00]\n",
      "  [0.0000000e+00]\n",
      "  [0.0000000e+00]\n",
      "  [0.0000000e+00]]\n",
      "\n",
      " [[0.0000000e+00]\n",
      "  [0.0000000e+00]\n",
      "  [0.0000000e+00]\n",
      "  [0.0000000e+00]\n",
      "  [0.0000000e+00]\n",
      "  [1.1072665e-03]\n",
      "  [2.7066513e-03]\n",
      "  [3.5524799e-03]\n",
      "  [3.5524799e-03]\n",
      "  [3.8446751e-03]\n",
      "  [3.5678586e-03]\n",
      "  [2.7220300e-03]\n",
      "  [1.1380239e-03]\n",
      "  [0.0000000e+00]\n",
      "  [0.0000000e+00]\n",
      "  [0.0000000e+00]\n",
      "  [0.0000000e+00]\n",
      "  [0.0000000e+00]\n",
      "  [0.0000000e+00]\n",
      "  [0.0000000e+00]\n",
      "  [0.0000000e+00]\n",
      "  [0.0000000e+00]]\n",
      "\n",
      " [[0.0000000e+00]\n",
      "  [0.0000000e+00]\n",
      "  [1.5378702e-05]\n",
      "  [1.5378702e-05]\n",
      "  [2.3375626e-03]\n",
      "  [3.9215689e-03]\n",
      "  [3.9215689e-03]\n",
      "  [3.9215689e-03]\n",
      "  [3.9215689e-03]\n",
      "  [3.9215689e-03]\n",
      "  [3.9215689e-03]\n",
      "  [3.9215689e-03]\n",
      "  [3.9215689e-03]\n",
      "  [2.3836987e-03]\n",
      "  [2.3836987e-03]\n",
      "  [3.0757405e-05]\n",
      "  [0.0000000e+00]\n",
      "  [0.0000000e+00]\n",
      "  [0.0000000e+00]\n",
      "  [0.0000000e+00]\n",
      "  [0.0000000e+00]\n",
      "  [0.0000000e+00]]\n",
      "\n",
      " [[0.0000000e+00]\n",
      "  [0.0000000e+00]\n",
      "  [1.9223376e-03]\n",
      "  [1.9223376e-03]\n",
      "  [3.9215689e-03]\n",
      "  [3.9215689e-03]\n",
      "  [3.9215689e-03]\n",
      "  [3.9215689e-03]\n",
      "  [3.9215689e-03]\n",
      "  [3.9215689e-03]\n",
      "  [3.9215689e-03]\n",
      "  [3.9215689e-03]\n",
      "  [3.9215689e-03]\n",
      "  [3.9215689e-03]\n",
      "  [3.9215689e-03]\n",
      "  [1.9992313e-03]\n",
      "  [0.0000000e+00]\n",
      "  [0.0000000e+00]\n",
      "  [0.0000000e+00]\n",
      "  [0.0000000e+00]\n",
      "  [0.0000000e+00]\n",
      "  [0.0000000e+00]]\n",
      "\n",
      " [[0.0000000e+00]\n",
      "  [4.1522493e-04]\n",
      "  [3.8292964e-03]\n",
      "  [3.8292964e-03]\n",
      "  [3.9215689e-03]\n",
      "  [3.9215689e-03]\n",
      "  [3.9215689e-03]\n",
      "  [3.9215689e-03]\n",
      "  [3.9215689e-03]\n",
      "  [3.9215689e-03]\n",
      "  [3.9215689e-03]\n",
      "  [3.9215689e-03]\n",
      "  [3.9215689e-03]\n",
      "  [3.9215689e-03]\n",
      "  [3.9215689e-03]\n",
      "  [3.8600538e-03]\n",
      "  [4.7673972e-04]\n",
      "  [0.0000000e+00]\n",
      "  [0.0000000e+00]\n",
      "  [0.0000000e+00]\n",
      "  [0.0000000e+00]\n",
      "  [0.0000000e+00]]\n",
      "\n",
      " [[0.0000000e+00]\n",
      "  [1.8915802e-03]\n",
      "  [3.9215689e-03]\n",
      "  [3.9215689e-03]\n",
      "  [3.9215689e-03]\n",
      "  [3.9215689e-03]\n",
      "  [3.9215689e-03]\n",
      "  [3.9215689e-03]\n",
      "  [3.9215689e-03]\n",
      "  [3.9215689e-03]\n",
      "  [3.9215689e-03]\n",
      "  [3.9215689e-03]\n",
      "  [3.9215689e-03]\n",
      "  [3.9215689e-03]\n",
      "  [3.9215689e-03]\n",
      "  [3.9215689e-03]\n",
      "  [1.9684739e-03]\n",
      "  [0.0000000e+00]\n",
      "  [0.0000000e+00]\n",
      "  [0.0000000e+00]\n",
      "  [0.0000000e+00]\n",
      "  [0.0000000e+00]]\n",
      "\n",
      " [[0.0000000e+00]\n",
      "  [1.8915802e-03]\n",
      "  [3.9215689e-03]\n",
      "  [3.9215689e-03]\n",
      "  [3.9215689e-03]\n",
      "  [3.9215689e-03]\n",
      "  [3.9215689e-03]\n",
      "  [3.9215689e-03]\n",
      "  [3.9215689e-03]\n",
      "  [3.9215689e-03]\n",
      "  [3.9215689e-03]\n",
      "  [3.9215689e-03]\n",
      "  [3.9215689e-03]\n",
      "  [3.9215689e-03]\n",
      "  [3.9215689e-03]\n",
      "  [3.9215689e-03]\n",
      "  [1.9684739e-03]\n",
      "  [0.0000000e+00]\n",
      "  [0.0000000e+00]\n",
      "  [0.0000000e+00]\n",
      "  [0.0000000e+00]\n",
      "  [0.0000000e+00]]\n",
      "\n",
      " [[0.0000000e+00]\n",
      "  [2.9065744e-03]\n",
      "  [3.9215689e-03]\n",
      "  [3.9215689e-03]\n",
      "  [3.9215689e-03]\n",
      "  [3.9215689e-03]\n",
      "  [3.9215689e-03]\n",
      "  [2.9680892e-03]\n",
      "  [2.9680892e-03]\n",
      "  [2.9219533e-04]\n",
      "  [2.9988466e-03]\n",
      "  [3.9215689e-03]\n",
      "  [3.9215689e-03]\n",
      "  [3.9215689e-03]\n",
      "  [3.9215689e-03]\n",
      "  [3.9215689e-03]\n",
      "  [2.9219531e-03]\n",
      "  [0.0000000e+00]\n",
      "  [0.0000000e+00]\n",
      "  [0.0000000e+00]\n",
      "  [0.0000000e+00]\n",
      "  [0.0000000e+00]]\n",
      "\n",
      " [[0.0000000e+00]\n",
      "  [3.5524799e-03]\n",
      "  [3.9215689e-03]\n",
      "  [3.9215689e-03]\n",
      "  [3.9215689e-03]\n",
      "  [3.9215689e-03]\n",
      "  [3.9215689e-03]\n",
      "  [1.6455210e-03]\n",
      "  [1.6455210e-03]\n",
      "  [0.0000000e+00]\n",
      "  [1.6608997e-03]\n",
      "  [3.9215689e-03]\n",
      "  [3.9215689e-03]\n",
      "  [3.9215689e-03]\n",
      "  [3.9215689e-03]\n",
      "  [3.9215689e-03]\n",
      "  [3.5524799e-03]\n",
      "  [0.0000000e+00]\n",
      "  [0.0000000e+00]\n",
      "  [0.0000000e+00]\n",
      "  [0.0000000e+00]\n",
      "  [0.0000000e+00]]\n",
      "\n",
      " [[0.0000000e+00]\n",
      "  [3.8139177e-03]\n",
      "  [3.9215689e-03]\n",
      "  [3.9215689e-03]\n",
      "  [3.9215689e-03]\n",
      "  [3.9215689e-03]\n",
      "  [3.9215689e-03]\n",
      "  [1.2456748e-03]\n",
      "  [1.2456748e-03]\n",
      "  [0.0000000e+00]\n",
      "  [1.2610535e-03]\n",
      "  [3.9215689e-03]\n",
      "  [3.9215689e-03]\n",
      "  [3.9215689e-03]\n",
      "  [3.9215689e-03]\n",
      "  [3.9215689e-03]\n",
      "  [3.8139177e-03]\n",
      "  [0.0000000e+00]\n",
      "  [0.0000000e+00]\n",
      "  [0.0000000e+00]\n",
      "  [0.0000000e+00]\n",
      "  [0.0000000e+00]]\n",
      "\n",
      " [[0.0000000e+00]\n",
      "  [3.8139177e-03]\n",
      "  [3.9215689e-03]\n",
      "  [3.9215689e-03]\n",
      "  [3.9215689e-03]\n",
      "  [3.9215689e-03]\n",
      "  [3.9215689e-03]\n",
      "  [1.1534026e-03]\n",
      "  [1.1534026e-03]\n",
      "  [0.0000000e+00]\n",
      "  [1.1687813e-03]\n",
      "  [3.9215689e-03]\n",
      "  [3.9215689e-03]\n",
      "  [3.9215689e-03]\n",
      "  [3.9215689e-03]\n",
      "  [3.9215689e-03]\n",
      "  [3.7985391e-03]\n",
      "  [0.0000000e+00]\n",
      "  [0.0000000e+00]\n",
      "  [0.0000000e+00]\n",
      "  [0.0000000e+00]\n",
      "  [0.0000000e+00]]\n",
      "\n",
      " [[0.0000000e+00]\n",
      "  [3.5371012e-03]\n",
      "  [3.9215689e-03]\n",
      "  [3.9215689e-03]\n",
      "  [3.9215689e-03]\n",
      "  [3.9215689e-03]\n",
      "  [3.9215689e-03]\n",
      "  [1.3687044e-03]\n",
      "  [1.3687044e-03]\n",
      "  [0.0000000e+00]\n",
      "  [1.3840831e-03]\n",
      "  [3.9215689e-03]\n",
      "  [3.9215689e-03]\n",
      "  [3.9215689e-03]\n",
      "  [3.9215689e-03]\n",
      "  [3.9215689e-03]\n",
      "  [3.5524799e-03]\n",
      "  [0.0000000e+00]\n",
      "  [0.0000000e+00]\n",
      "  [0.0000000e+00]\n",
      "  [0.0000000e+00]\n",
      "  [0.0000000e+00]]\n",
      "\n",
      " [[0.0000000e+00]\n",
      "  [3.5371012e-03]\n",
      "  [3.9215689e-03]\n",
      "  [3.9215689e-03]\n",
      "  [3.9215689e-03]\n",
      "  [3.9215689e-03]\n",
      "  [3.9215689e-03]\n",
      "  [1.3687044e-03]\n",
      "  [1.3687044e-03]\n",
      "  [0.0000000e+00]\n",
      "  [1.3840831e-03]\n",
      "  [3.9215689e-03]\n",
      "  [3.9215689e-03]\n",
      "  [3.9215689e-03]\n",
      "  [3.9215689e-03]\n",
      "  [3.9215689e-03]\n",
      "  [3.5524799e-03]\n",
      "  [0.0000000e+00]\n",
      "  [0.0000000e+00]\n",
      "  [0.0000000e+00]\n",
      "  [0.0000000e+00]\n",
      "  [0.0000000e+00]]\n",
      "\n",
      " [[0.0000000e+00]\n",
      "  [2.8911957e-03]\n",
      "  [3.9215689e-03]\n",
      "  [3.9215689e-03]\n",
      "  [3.9215689e-03]\n",
      "  [3.9215689e-03]\n",
      "  [3.9215689e-03]\n",
      "  [2.1068822e-03]\n",
      "  [2.1068822e-03]\n",
      "  [0.0000000e+00]\n",
      "  [2.1068822e-03]\n",
      "  [3.9215689e-03]\n",
      "  [3.9215689e-03]\n",
      "  [3.9215689e-03]\n",
      "  [3.9215689e-03]\n",
      "  [3.9215689e-03]\n",
      "  [2.9065744e-03]\n",
      "  [0.0000000e+00]\n",
      "  [0.0000000e+00]\n",
      "  [0.0000000e+00]\n",
      "  [0.0000000e+00]\n",
      "  [0.0000000e+00]]\n",
      "\n",
      " [[0.0000000e+00]\n",
      "  [1.8762015e-03]\n",
      "  [3.9215689e-03]\n",
      "  [3.9215689e-03]\n",
      "  [3.9215689e-03]\n",
      "  [3.9215689e-03]\n",
      "  [3.9215689e-03]\n",
      "  [3.7216456e-03]\n",
      "  [3.7216456e-03]\n",
      "  [2.1837757e-03]\n",
      "  [3.7216456e-03]\n",
      "  [3.9215689e-03]\n",
      "  [3.9215689e-03]\n",
      "  [3.9215689e-03]\n",
      "  [3.9215689e-03]\n",
      "  [3.9215689e-03]\n",
      "  [1.9377163e-03]\n",
      "  [0.0000000e+00]\n",
      "  [0.0000000e+00]\n",
      "  [0.0000000e+00]\n",
      "  [0.0000000e+00]\n",
      "  [0.0000000e+00]]\n",
      "\n",
      " [[0.0000000e+00]\n",
      "  [3.9984621e-04]\n",
      "  [3.8139177e-03]\n",
      "  [3.8139177e-03]\n",
      "  [3.9215689e-03]\n",
      "  [3.9215689e-03]\n",
      "  [3.9215689e-03]\n",
      "  [3.9215689e-03]\n",
      "  [3.9215689e-03]\n",
      "  [3.9215689e-03]\n",
      "  [3.9215689e-03]\n",
      "  [3.9215689e-03]\n",
      "  [3.9215689e-03]\n",
      "  [3.9215689e-03]\n",
      "  [3.9215689e-03]\n",
      "  [3.8446751e-03]\n",
      "  [4.4598232e-04]\n",
      "  [0.0000000e+00]\n",
      "  [0.0000000e+00]\n",
      "  [0.0000000e+00]\n",
      "  [0.0000000e+00]\n",
      "  [0.0000000e+00]]\n",
      "\n",
      " [[0.0000000e+00]\n",
      "  [0.0000000e+00]\n",
      "  [1.8454441e-03]\n",
      "  [1.8454441e-03]\n",
      "  [3.9215689e-03]\n",
      "  [3.9215689e-03]\n",
      "  [3.9215689e-03]\n",
      "  [3.9215689e-03]\n",
      "  [3.9215689e-03]\n",
      "  [3.9215689e-03]\n",
      "  [3.9215689e-03]\n",
      "  [3.9215689e-03]\n",
      "  [3.9215689e-03]\n",
      "  [3.9215689e-03]\n",
      "  [3.9215689e-03]\n",
      "  [1.9530950e-03]\n",
      "  [0.0000000e+00]\n",
      "  [0.0000000e+00]\n",
      "  [0.0000000e+00]\n",
      "  [0.0000000e+00]\n",
      "  [0.0000000e+00]\n",
      "  [0.0000000e+00]]\n",
      "\n",
      " [[0.0000000e+00]\n",
      "  [0.0000000e+00]\n",
      "  [1.8454441e-03]\n",
      "  [1.8454441e-03]\n",
      "  [3.9215689e-03]\n",
      "  [3.9215689e-03]\n",
      "  [3.9215689e-03]\n",
      "  [3.9215689e-03]\n",
      "  [3.9215689e-03]\n",
      "  [3.9215689e-03]\n",
      "  [3.9215689e-03]\n",
      "  [3.9215689e-03]\n",
      "  [3.9215689e-03]\n",
      "  [3.9215689e-03]\n",
      "  [3.9215689e-03]\n",
      "  [1.9530950e-03]\n",
      "  [0.0000000e+00]\n",
      "  [0.0000000e+00]\n",
      "  [0.0000000e+00]\n",
      "  [0.0000000e+00]\n",
      "  [0.0000000e+00]\n",
      "  [0.0000000e+00]]\n",
      "\n",
      " [[0.0000000e+00]\n",
      "  [0.0000000e+00]\n",
      "  [1.5378702e-05]\n",
      "  [1.5378702e-05]\n",
      "  [2.2606691e-03]\n",
      "  [3.9215689e-03]\n",
      "  [3.9215689e-03]\n",
      "  [3.9215689e-03]\n",
      "  [3.9215689e-03]\n",
      "  [3.9215689e-03]\n",
      "  [3.9215689e-03]\n",
      "  [3.9215689e-03]\n",
      "  [3.9215689e-03]\n",
      "  [2.3683200e-03]\n",
      "  [2.3683200e-03]\n",
      "  [1.5378702e-05]\n",
      "  [0.0000000e+00]\n",
      "  [0.0000000e+00]\n",
      "  [0.0000000e+00]\n",
      "  [0.0000000e+00]\n",
      "  [0.0000000e+00]\n",
      "  [0.0000000e+00]]\n",
      "\n",
      " [[0.0000000e+00]\n",
      "  [0.0000000e+00]\n",
      "  [0.0000000e+00]\n",
      "  [0.0000000e+00]\n",
      "  [0.0000000e+00]\n",
      "  [1.0611304e-03]\n",
      "  [2.7066513e-03]\n",
      "  [3.5678586e-03]\n",
      "  [3.5678586e-03]\n",
      "  [3.8446751e-03]\n",
      "  [3.5678586e-03]\n",
      "  [2.7220300e-03]\n",
      "  [1.1380239e-03]\n",
      "  [0.0000000e+00]\n",
      "  [0.0000000e+00]\n",
      "  [0.0000000e+00]\n",
      "  [0.0000000e+00]\n",
      "  [0.0000000e+00]\n",
      "  [0.0000000e+00]\n",
      "  [0.0000000e+00]\n",
      "  [0.0000000e+00]\n",
      "  [0.0000000e+00]]]\n"
     ]
    }
   ],
   "source": [
    "print data[0]"
   ]
  },
  {
   "cell_type": "code",
   "execution_count": 73,
   "metadata": {
    "colab": {
     "autoexec": {
      "startup": false,
      "wait_interval": 0
     },
     "base_uri": "https://localhost:8080/",
     "height": 34
    },
    "colab_type": "code",
    "executionInfo": {
     "elapsed": 959,
     "status": "ok",
     "timestamp": 1528357908633,
     "user": {
      "displayName": "Somit Mittal",
      "photoUrl": "https://lh3.googleusercontent.com/a/default-user=s128",
      "userId": "101848872239276660668"
     },
     "user_tz": -330
    },
    "id": "xDACFKzwIJbs",
    "outputId": "6688c780-7610-4eac-c468-34196bc96e74"
   },
   "outputs": [
    {
     "name": "stdout",
     "output_type": "stream",
     "text": [
      "0\n"
     ]
    }
   ],
   "source": [
    "print labels[0]"
   ]
  },
  {
   "cell_type": "code",
   "execution_count": 0,
   "metadata": {
    "colab": {
     "autoexec": {
      "startup": false,
      "wait_interval": 0
     }
    },
    "colab_type": "code",
    "id": "S1cSM-Kq3XZk"
   },
   "outputs": [],
   "source": [
    "from sklearn.externals import joblib"
   ]
  },
  {
   "cell_type": "code",
   "execution_count": 74,
   "metadata": {
    "colab": {
     "autoexec": {
      "startup": false,
      "wait_interval": 0
     },
     "base_uri": "https://localhost:8080/",
     "height": 34
    },
    "colab_type": "code",
    "executionInfo": {
     "elapsed": 2588,
     "status": "ok",
     "timestamp": 1528357915318,
     "user": {
      "displayName": "Somit Mittal",
      "photoUrl": "https://lh3.googleusercontent.com/a/default-user=s128",
      "userId": "101848872239276660668"
     },
     "user_tz": -330
    },
    "id": "wZGfJDzW3XZx",
    "outputId": "307ce373-4b4b-496d-dbea-8e596f273815"
   },
   "outputs": [
    {
     "data": {
      "text/plain": [
       "['saved_encoding.pkl']"
      ]
     },
     "execution_count": 74,
     "metadata": {
      "tags": []
     },
     "output_type": "execute_result"
    }
   ],
   "source": [
    "from sklearn.preprocessing import LabelBinarizer\n",
    "from sklearn.externals import joblib\n",
    "from sklearn.model_selection import train_test_split\n",
    "\n",
    "(trainvX, testX, trainvY, testY) = train_test_split(data, labels, test_size=0.20, random_state=23)\n",
    "(trainX, valX, trainY, valY) = train_test_split(trainvX, trainvY, test_size=0.05, random_state=23)\n",
    "lb = LabelBinarizer().fit(labels)\n",
    "trainY = lb.transform(trainY)\n",
    "testY = lb.transform(testY)\n",
    "valY = lb.transform(valY)\n",
    "joblib.dump(lb,'saved_encoding.pkl')"
   ]
  },
  {
   "cell_type": "code",
   "execution_count": 0,
   "metadata": {
    "colab": {
     "autoexec": {
      "startup": false,
      "wait_interval": 0
     }
    },
    "colab_type": "code",
    "id": "8K9-JOXP3XaG"
   },
   "outputs": [],
   "source": [
    "# from sklearn.preprocessing import LabelBinarizer\n",
    "# import os\n",
    "# labels=[]\n",
    "# path='/home/somit/Desktop/Integrand/DataAugmentation/Dataset/'\n",
    "# for folder in os.listdir(path):\n",
    "#     labels.append(folder)\n",
    "# print labels\n",
    "# lb=LabelBinarizer()\n",
    "# labels=lb.fit_transform(labels)\n",
    "# labels"
   ]
  },
  {
   "cell_type": "code",
   "execution_count": 0,
   "metadata": {
    "colab": {
     "autoexec": {
      "startup": false,
      "wait_interval": 0
     }
    },
    "colab_type": "code",
    "id": "4WyR9_n23Xac"
   },
   "outputs": [],
   "source": [
    "from sklearn.externals import joblib\n",
    "lb = joblib.load('saved_encoding.pkl')"
   ]
  },
  {
   "cell_type": "code",
   "execution_count": 75,
   "metadata": {
    "colab": {
     "autoexec": {
      "startup": false,
      "wait_interval": 0
     },
     "base_uri": "https://localhost:8080/",
     "height": 89
    },
    "colab_type": "code",
    "executionInfo": {
     "elapsed": 862,
     "status": "ok",
     "timestamp": 1528357926355,
     "user": {
      "displayName": "Somit Mittal",
      "photoUrl": "https://lh3.googleusercontent.com/a/default-user=s128",
      "userId": "101848872239276660668"
     },
     "user_tz": -330
    },
    "id": "RqXGgfcy3Xa0",
    "outputId": "cfb99890-d82d-4037-8aaf-6d4427f05c15"
   },
   "outputs": [
    {
     "name": "stdout",
     "output_type": "stream",
     "text": [
      "compiling model...\n"
     ]
    },
    {
     "name": "stderr",
     "output_type": "stream",
     "text": [
      "/usr/local/lib/python2.7/dist-packages/ipykernel_launcher.py:23: UserWarning: Update your `Conv2D` call to the Keras 2 API: `Conv2D(20, (3, 3), padding=\"same\", input_shape=(22, 22, 1...)`\n",
      "/usr/local/lib/python2.7/dist-packages/ipykernel_launcher.py:28: UserWarning: Update your `Conv2D` call to the Keras 2 API: `Conv2D(50, (5, 5), padding=\"same\")`\n"
     ]
    }
   ],
   "source": [
    "# convert the labels from integers to vectors\n",
    "#trainY = to_categorical(trainY, num_classes=2)\n",
    "#testY = to_categorical(testY, num_classes=2)\n",
    "EPOCHS = 2\n",
    "INIT_LR = 1e-3\n",
    "BS = 128\n",
    "\n",
    "# initialize the model\n",
    "print(\"compiling model...\")\n",
    "model = LeNetbuild(width=22, height=22, depth=1, classes=73)\n",
    "opt = Adam(lr=INIT_LR, decay=INIT_LR / EPOCHS)\n",
    "model.compile(loss=\"categorical_crossentropy\", optimizer=opt, metrics=[\"accuracy\"])"
   ]
  },
  {
   "cell_type": "code",
   "execution_count": 76,
   "metadata": {
    "colab": {
     "autoexec": {
      "startup": false,
      "wait_interval": 0
     },
     "base_uri": "https://localhost:8080/",
     "height": 1506
    },
    "colab_type": "code",
    "executionInfo": {
     "elapsed": 43599,
     "status": "error",
     "timestamp": 1528357975452,
     "user": {
      "displayName": "Somit Mittal",
      "photoUrl": "https://lh3.googleusercontent.com/a/default-user=s128",
      "userId": "101848872239276660668"
     },
     "user_tz": -330
    },
    "id": "p7q7k7p93Xba",
    "outputId": "c12d83a8-1da5-45c4-d292-dd74a9fcf016"
   },
   "outputs": [
    {
     "name": "stdout",
     "output_type": "stream",
     "text": [
      "[INFO] training network...\n",
      "Train on 388614 samples, validate on 20454 samples\n",
      "Epoch 1/2\n",
      " - 32s - loss: 4.2902 - acc: 0.0133 - val_loss: 4.2903 - val_acc: 0.0143\n",
      "Epoch 2/2\n"
     ]
    },
    {
     "ename": "KeyboardInterrupt",
     "evalue": "ignored",
     "output_type": "error",
     "traceback": [
      "\u001b[0;31m\u001b[0m",
      "\u001b[0;31mKeyboardInterrupt\u001b[0mTraceback (most recent call last)",
      "\u001b[0;32m<ipython-input-76-8c9285b6367e>\u001b[0m in \u001b[0;36m<module>\u001b[0;34m()\u001b[0m\n\u001b[1;32m      1\u001b[0m \u001b[0;32mprint\u001b[0m\u001b[0;34m(\u001b[0m\u001b[0;34m\"[INFO] training network...\"\u001b[0m\u001b[0;34m)\u001b[0m\u001b[0;34m\u001b[0m\u001b[0m\n\u001b[0;32m----> 2\u001b[0;31m \u001b[0mmodel\u001b[0m\u001b[0;34m.\u001b[0m\u001b[0mfit\u001b[0m\u001b[0;34m(\u001b[0m\u001b[0mx\u001b[0m \u001b[0;34m=\u001b[0m \u001b[0mtrainX\u001b[0m\u001b[0;34m,\u001b[0m \u001b[0my\u001b[0m\u001b[0;34m=\u001b[0m \u001b[0mtrainY\u001b[0m\u001b[0;34m,\u001b[0m \u001b[0mepochs\u001b[0m \u001b[0;34m=\u001b[0m \u001b[0;36m2\u001b[0m\u001b[0;34m,\u001b[0m \u001b[0mshuffle\u001b[0m \u001b[0;34m=\u001b[0m \u001b[0mTrue\u001b[0m\u001b[0;34m,\u001b[0m \u001b[0mbatch_size\u001b[0m \u001b[0;34m=\u001b[0m \u001b[0;36m128\u001b[0m\u001b[0;34m,\u001b[0m \u001b[0mvalidation_data\u001b[0m\u001b[0;34m=\u001b[0m\u001b[0;34m(\u001b[0m\u001b[0mvalX\u001b[0m\u001b[0;34m,\u001b[0m \u001b[0mvalY\u001b[0m\u001b[0;34m)\u001b[0m\u001b[0;34m,\u001b[0m\u001b[0mverbose\u001b[0m\u001b[0;34m=\u001b[0m\u001b[0;36m2\u001b[0m\u001b[0;34m)\u001b[0m\u001b[0;34m\u001b[0m\u001b[0m\n\u001b[0m",
      "\u001b[0;32m/usr/local/lib/python2.7/dist-packages/keras/models.pyc\u001b[0m in \u001b[0;36mfit\u001b[0;34m(self, x, y, batch_size, epochs, verbose, callbacks, validation_split, validation_data, shuffle, class_weight, sample_weight, initial_epoch, steps_per_epoch, validation_steps, **kwargs)\u001b[0m\n\u001b[1;32m   1000\u001b[0m                               \u001b[0minitial_epoch\u001b[0m\u001b[0;34m=\u001b[0m\u001b[0minitial_epoch\u001b[0m\u001b[0;34m,\u001b[0m\u001b[0;34m\u001b[0m\u001b[0m\n\u001b[1;32m   1001\u001b[0m                               \u001b[0msteps_per_epoch\u001b[0m\u001b[0;34m=\u001b[0m\u001b[0msteps_per_epoch\u001b[0m\u001b[0;34m,\u001b[0m\u001b[0;34m\u001b[0m\u001b[0m\n\u001b[0;32m-> 1002\u001b[0;31m                               validation_steps=validation_steps)\n\u001b[0m\u001b[1;32m   1003\u001b[0m \u001b[0;34m\u001b[0m\u001b[0m\n\u001b[1;32m   1004\u001b[0m     def evaluate(self, x=None, y=None,\n",
      "\u001b[0;32m/usr/local/lib/python2.7/dist-packages/keras/engine/training.pyc\u001b[0m in \u001b[0;36mfit\u001b[0;34m(self, x, y, batch_size, epochs, verbose, callbacks, validation_split, validation_data, shuffle, class_weight, sample_weight, initial_epoch, steps_per_epoch, validation_steps, **kwargs)\u001b[0m\n\u001b[1;32m   1703\u001b[0m                               \u001b[0minitial_epoch\u001b[0m\u001b[0;34m=\u001b[0m\u001b[0minitial_epoch\u001b[0m\u001b[0;34m,\u001b[0m\u001b[0;34m\u001b[0m\u001b[0m\n\u001b[1;32m   1704\u001b[0m                               \u001b[0msteps_per_epoch\u001b[0m\u001b[0;34m=\u001b[0m\u001b[0msteps_per_epoch\u001b[0m\u001b[0;34m,\u001b[0m\u001b[0;34m\u001b[0m\u001b[0m\n\u001b[0;32m-> 1705\u001b[0;31m                               validation_steps=validation_steps)\n\u001b[0m\u001b[1;32m   1706\u001b[0m \u001b[0;34m\u001b[0m\u001b[0m\n\u001b[1;32m   1707\u001b[0m     def evaluate(self, x=None, y=None,\n",
      "\u001b[0;32m/usr/local/lib/python2.7/dist-packages/keras/engine/training.pyc\u001b[0m in \u001b[0;36m_fit_loop\u001b[0;34m(self, f, ins, out_labels, batch_size, epochs, verbose, callbacks, val_f, val_ins, shuffle, callback_metrics, initial_epoch, steps_per_epoch, validation_steps)\u001b[0m\n\u001b[1;32m   1234\u001b[0m                         \u001b[0mins_batch\u001b[0m\u001b[0;34m[\u001b[0m\u001b[0mi\u001b[0m\u001b[0;34m]\u001b[0m \u001b[0;34m=\u001b[0m \u001b[0mins_batch\u001b[0m\u001b[0;34m[\u001b[0m\u001b[0mi\u001b[0m\u001b[0;34m]\u001b[0m\u001b[0;34m.\u001b[0m\u001b[0mtoarray\u001b[0m\u001b[0;34m(\u001b[0m\u001b[0;34m)\u001b[0m\u001b[0;34m\u001b[0m\u001b[0m\n\u001b[1;32m   1235\u001b[0m \u001b[0;34m\u001b[0m\u001b[0m\n\u001b[0;32m-> 1236\u001b[0;31m                     \u001b[0mouts\u001b[0m \u001b[0;34m=\u001b[0m \u001b[0mf\u001b[0m\u001b[0;34m(\u001b[0m\u001b[0mins_batch\u001b[0m\u001b[0;34m)\u001b[0m\u001b[0;34m\u001b[0m\u001b[0m\n\u001b[0m\u001b[1;32m   1237\u001b[0m                     \u001b[0;32mif\u001b[0m \u001b[0;32mnot\u001b[0m \u001b[0misinstance\u001b[0m\u001b[0;34m(\u001b[0m\u001b[0mouts\u001b[0m\u001b[0;34m,\u001b[0m \u001b[0mlist\u001b[0m\u001b[0;34m)\u001b[0m\u001b[0;34m:\u001b[0m\u001b[0;34m\u001b[0m\u001b[0m\n\u001b[1;32m   1238\u001b[0m                         \u001b[0mouts\u001b[0m \u001b[0;34m=\u001b[0m \u001b[0;34m[\u001b[0m\u001b[0mouts\u001b[0m\u001b[0;34m]\u001b[0m\u001b[0;34m\u001b[0m\u001b[0m\n",
      "\u001b[0;32m/usr/local/lib/python2.7/dist-packages/keras/backend/tensorflow_backend.pyc\u001b[0m in \u001b[0;36m__call__\u001b[0;34m(self, inputs)\u001b[0m\n\u001b[1;32m   2480\u001b[0m         \u001b[0msession\u001b[0m \u001b[0;34m=\u001b[0m \u001b[0mget_session\u001b[0m\u001b[0;34m(\u001b[0m\u001b[0;34m)\u001b[0m\u001b[0;34m\u001b[0m\u001b[0m\n\u001b[1;32m   2481\u001b[0m         updated = session.run(fetches=fetches, feed_dict=feed_dict,\n\u001b[0;32m-> 2482\u001b[0;31m                               **self.session_kwargs)\n\u001b[0m\u001b[1;32m   2483\u001b[0m         \u001b[0;32mreturn\u001b[0m \u001b[0mupdated\u001b[0m\u001b[0;34m[\u001b[0m\u001b[0;34m:\u001b[0m\u001b[0mlen\u001b[0m\u001b[0;34m(\u001b[0m\u001b[0mself\u001b[0m\u001b[0;34m.\u001b[0m\u001b[0moutputs\u001b[0m\u001b[0;34m)\u001b[0m\u001b[0;34m]\u001b[0m\u001b[0;34m\u001b[0m\u001b[0m\n\u001b[1;32m   2484\u001b[0m \u001b[0;34m\u001b[0m\u001b[0m\n",
      "\u001b[0;32m/usr/local/lib/python2.7/dist-packages/tensorflow/python/client/session.pyc\u001b[0m in \u001b[0;36mrun\u001b[0;34m(self, fetches, feed_dict, options, run_metadata)\u001b[0m\n\u001b[1;32m    898\u001b[0m     \u001b[0;32mtry\u001b[0m\u001b[0;34m:\u001b[0m\u001b[0;34m\u001b[0m\u001b[0m\n\u001b[1;32m    899\u001b[0m       result = self._run(None, fetches, feed_dict, options_ptr,\n\u001b[0;32m--> 900\u001b[0;31m                          run_metadata_ptr)\n\u001b[0m\u001b[1;32m    901\u001b[0m       \u001b[0;32mif\u001b[0m \u001b[0mrun_metadata\u001b[0m\u001b[0;34m:\u001b[0m\u001b[0;34m\u001b[0m\u001b[0m\n\u001b[1;32m    902\u001b[0m         \u001b[0mproto_data\u001b[0m \u001b[0;34m=\u001b[0m \u001b[0mtf_session\u001b[0m\u001b[0;34m.\u001b[0m\u001b[0mTF_GetBuffer\u001b[0m\u001b[0;34m(\u001b[0m\u001b[0mrun_metadata_ptr\u001b[0m\u001b[0;34m)\u001b[0m\u001b[0;34m\u001b[0m\u001b[0m\n",
      "\u001b[0;32m/usr/local/lib/python2.7/dist-packages/tensorflow/python/client/session.pyc\u001b[0m in \u001b[0;36m_run\u001b[0;34m(self, handle, fetches, feed_dict, options, run_metadata)\u001b[0m\n\u001b[1;32m   1133\u001b[0m     \u001b[0;32mif\u001b[0m \u001b[0mfinal_fetches\u001b[0m \u001b[0;32mor\u001b[0m \u001b[0mfinal_targets\u001b[0m \u001b[0;32mor\u001b[0m \u001b[0;34m(\u001b[0m\u001b[0mhandle\u001b[0m \u001b[0;32mand\u001b[0m \u001b[0mfeed_dict_tensor\u001b[0m\u001b[0;34m)\u001b[0m\u001b[0;34m:\u001b[0m\u001b[0;34m\u001b[0m\u001b[0m\n\u001b[1;32m   1134\u001b[0m       results = self._do_run(handle, final_targets, final_fetches,\n\u001b[0;32m-> 1135\u001b[0;31m                              feed_dict_tensor, options, run_metadata)\n\u001b[0m\u001b[1;32m   1136\u001b[0m     \u001b[0;32melse\u001b[0m\u001b[0;34m:\u001b[0m\u001b[0;34m\u001b[0m\u001b[0m\n\u001b[1;32m   1137\u001b[0m       \u001b[0mresults\u001b[0m \u001b[0;34m=\u001b[0m \u001b[0;34m[\u001b[0m\u001b[0;34m]\u001b[0m\u001b[0;34m\u001b[0m\u001b[0m\n",
      "\u001b[0;32m/usr/local/lib/python2.7/dist-packages/tensorflow/python/client/session.pyc\u001b[0m in \u001b[0;36m_do_run\u001b[0;34m(self, handle, target_list, fetch_list, feed_dict, options, run_metadata)\u001b[0m\n\u001b[1;32m   1314\u001b[0m     \u001b[0;32mif\u001b[0m \u001b[0mhandle\u001b[0m \u001b[0;32mis\u001b[0m \u001b[0mNone\u001b[0m\u001b[0;34m:\u001b[0m\u001b[0;34m\u001b[0m\u001b[0m\n\u001b[1;32m   1315\u001b[0m       return self._do_call(_run_fn, feeds, fetches, targets, options,\n\u001b[0;32m-> 1316\u001b[0;31m                            run_metadata)\n\u001b[0m\u001b[1;32m   1317\u001b[0m     \u001b[0;32melse\u001b[0m\u001b[0;34m:\u001b[0m\u001b[0;34m\u001b[0m\u001b[0m\n\u001b[1;32m   1318\u001b[0m       \u001b[0;32mreturn\u001b[0m \u001b[0mself\u001b[0m\u001b[0;34m.\u001b[0m\u001b[0m_do_call\u001b[0m\u001b[0;34m(\u001b[0m\u001b[0m_prun_fn\u001b[0m\u001b[0;34m,\u001b[0m \u001b[0mhandle\u001b[0m\u001b[0;34m,\u001b[0m \u001b[0mfeeds\u001b[0m\u001b[0;34m,\u001b[0m \u001b[0mfetches\u001b[0m\u001b[0;34m)\u001b[0m\u001b[0;34m\u001b[0m\u001b[0m\n",
      "\u001b[0;32m/usr/local/lib/python2.7/dist-packages/tensorflow/python/client/session.pyc\u001b[0m in \u001b[0;36m_do_call\u001b[0;34m(self, fn, *args)\u001b[0m\n\u001b[1;32m   1320\u001b[0m   \u001b[0;32mdef\u001b[0m \u001b[0m_do_call\u001b[0m\u001b[0;34m(\u001b[0m\u001b[0mself\u001b[0m\u001b[0;34m,\u001b[0m \u001b[0mfn\u001b[0m\u001b[0;34m,\u001b[0m \u001b[0;34m*\u001b[0m\u001b[0margs\u001b[0m\u001b[0;34m)\u001b[0m\u001b[0;34m:\u001b[0m\u001b[0;34m\u001b[0m\u001b[0m\n\u001b[1;32m   1321\u001b[0m     \u001b[0;32mtry\u001b[0m\u001b[0;34m:\u001b[0m\u001b[0;34m\u001b[0m\u001b[0m\n\u001b[0;32m-> 1322\u001b[0;31m       \u001b[0;32mreturn\u001b[0m \u001b[0mfn\u001b[0m\u001b[0;34m(\u001b[0m\u001b[0;34m*\u001b[0m\u001b[0margs\u001b[0m\u001b[0;34m)\u001b[0m\u001b[0;34m\u001b[0m\u001b[0m\n\u001b[0m\u001b[1;32m   1323\u001b[0m     \u001b[0;32mexcept\u001b[0m \u001b[0merrors\u001b[0m\u001b[0;34m.\u001b[0m\u001b[0mOpError\u001b[0m \u001b[0;32mas\u001b[0m \u001b[0me\u001b[0m\u001b[0;34m:\u001b[0m\u001b[0;34m\u001b[0m\u001b[0m\n\u001b[1;32m   1324\u001b[0m       \u001b[0mmessage\u001b[0m \u001b[0;34m=\u001b[0m \u001b[0mcompat\u001b[0m\u001b[0;34m.\u001b[0m\u001b[0mas_text\u001b[0m\u001b[0;34m(\u001b[0m\u001b[0me\u001b[0m\u001b[0;34m.\u001b[0m\u001b[0mmessage\u001b[0m\u001b[0;34m)\u001b[0m\u001b[0;34m\u001b[0m\u001b[0m\n",
      "\u001b[0;32m/usr/local/lib/python2.7/dist-packages/tensorflow/python/client/session.pyc\u001b[0m in \u001b[0;36m_run_fn\u001b[0;34m(feed_dict, fetch_list, target_list, options, run_metadata)\u001b[0m\n\u001b[1;32m   1305\u001b[0m       \u001b[0mself\u001b[0m\u001b[0;34m.\u001b[0m\u001b[0m_extend_graph\u001b[0m\u001b[0;34m(\u001b[0m\u001b[0;34m)\u001b[0m\u001b[0;34m\u001b[0m\u001b[0m\n\u001b[1;32m   1306\u001b[0m       return self._call_tf_sessionrun(\n\u001b[0;32m-> 1307\u001b[0;31m           options, feed_dict, fetch_list, target_list, run_metadata)\n\u001b[0m\u001b[1;32m   1308\u001b[0m \u001b[0;34m\u001b[0m\u001b[0m\n\u001b[1;32m   1309\u001b[0m     \u001b[0;32mdef\u001b[0m \u001b[0m_prun_fn\u001b[0m\u001b[0;34m(\u001b[0m\u001b[0mhandle\u001b[0m\u001b[0;34m,\u001b[0m \u001b[0mfeed_dict\u001b[0m\u001b[0;34m,\u001b[0m \u001b[0mfetch_list\u001b[0m\u001b[0;34m)\u001b[0m\u001b[0;34m:\u001b[0m\u001b[0;34m\u001b[0m\u001b[0m\n",
      "\u001b[0;32m/usr/local/lib/python2.7/dist-packages/tensorflow/python/client/session.pyc\u001b[0m in \u001b[0;36m_call_tf_sessionrun\u001b[0;34m(self, options, feed_dict, fetch_list, target_list, run_metadata)\u001b[0m\n\u001b[1;32m   1407\u001b[0m       return tf_session.TF_SessionRun_wrapper(\n\u001b[1;32m   1408\u001b[0m           \u001b[0mself\u001b[0m\u001b[0;34m.\u001b[0m\u001b[0m_session\u001b[0m\u001b[0;34m,\u001b[0m \u001b[0moptions\u001b[0m\u001b[0;34m,\u001b[0m \u001b[0mfeed_dict\u001b[0m\u001b[0;34m,\u001b[0m \u001b[0mfetch_list\u001b[0m\u001b[0;34m,\u001b[0m \u001b[0mtarget_list\u001b[0m\u001b[0;34m,\u001b[0m\u001b[0;34m\u001b[0m\u001b[0m\n\u001b[0;32m-> 1409\u001b[0;31m           run_metadata)\n\u001b[0m\u001b[1;32m   1410\u001b[0m     \u001b[0;32melse\u001b[0m\u001b[0;34m:\u001b[0m\u001b[0;34m\u001b[0m\u001b[0m\n\u001b[1;32m   1411\u001b[0m       \u001b[0;32mwith\u001b[0m \u001b[0merrors\u001b[0m\u001b[0;34m.\u001b[0m\u001b[0mraise_exception_on_not_ok_status\u001b[0m\u001b[0;34m(\u001b[0m\u001b[0;34m)\u001b[0m \u001b[0;32mas\u001b[0m \u001b[0mstatus\u001b[0m\u001b[0;34m:\u001b[0m\u001b[0;34m\u001b[0m\u001b[0m\n",
      "\u001b[0;31mKeyboardInterrupt\u001b[0m: "
     ]
    }
   ],
   "source": [
    "print(\"[INFO] training network...\")\n",
    "model.fit(x = trainX, y= trainY, epochs = 2, shuffle = True, batch_size = 128, validation_data=(valX, valY),verbose=2)"
   ]
  },
  {
   "cell_type": "code",
   "execution_count": 68,
   "metadata": {
    "colab": {
     "autoexec": {
      "startup": false,
      "wait_interval": 0
     },
     "base_uri": "https://localhost:8080/",
     "height": 52
    },
    "colab_type": "code",
    "executionInfo": {
     "elapsed": 11958,
     "status": "ok",
     "timestamp": 1528356338843,
     "user": {
      "displayName": "Somit Mittal",
      "photoUrl": "https://lh3.googleusercontent.com/a/default-user=s128",
      "userId": "101848872239276660668"
     },
     "user_tz": -330
    },
    "id": "7VFfg5DT3Xbv",
    "outputId": "9847741d-2bc9-4168-f446-5b4eb95b6a91"
   },
   "outputs": [
    {
     "name": "stdout",
     "output_type": "stream",
     "text": [
      "102267/102267 [==============================] - 11s 106us/step\n"
     ]
    },
    {
     "data": {
      "text/plain": [
       "[4.290277325700324, 0.013278965844309503]"
      ]
     },
     "execution_count": 68,
     "metadata": {
      "tags": []
     },
     "output_type": "execute_result"
    }
   ],
   "source": [
    "model.evaluate(testX, testY)"
   ]
  },
  {
   "cell_type": "code",
   "execution_count": 107,
   "metadata": {
    "colab": {
     "autoexec": {
      "startup": false,
      "wait_interval": 0
     },
     "base_uri": "https://localhost:8080/",
     "height": 34
    },
    "colab_type": "code",
    "executionInfo": {
     "elapsed": 962,
     "status": "ok",
     "timestamp": 1527662930818,
     "user": {
      "displayName": "Somit Mittal",
      "photoUrl": "https://lh3.googleusercontent.com/a/default-user=s128",
      "userId": "101848872239276660668"
     },
     "user_tz": -330
    },
    "id": "LsT3Km273XcB",
    "outputId": "739365dd-8a4e-4603-8a24-2eb868be05f5"
   },
   "outputs": [
    {
     "name": "stdout",
     "output_type": "stream",
     "text": [
      "Saved model to disk\n"
     ]
    }
   ],
   "source": [
    "# serialize model to JSON\n",
    "model_json = model.to_json()\n",
    "with open(\"Colab_Model.json\", \"w\") as json_file:\n",
    "    json_file.write(model_json)\n",
    "# serialize weights to HDF5\n",
    "model.save_weights(\"Colab_Model_Weights.h5\")\n",
    "print(\"Saved model to disk\")"
   ]
  },
  {
   "cell_type": "code",
   "execution_count": 0,
   "metadata": {
    "colab": {
     "autoexec": {
      "startup": false,
      "wait_interval": 0
     }
    },
    "colab_type": "code",
    "id": "E_qiR5SX0ANK"
   },
   "outputs": [],
   "source": [
    "from google.colab import files\n",
    "files.download('Colab_Model.json')\n",
    "files.download('Colab_Model_Weights.h5')\n",
    "files.download('saved_encoding.pkl')"
   ]
  },
  {
   "cell_type": "code",
   "execution_count": 0,
   "metadata": {
    "colab": {
     "autoexec": {
      "startup": false,
      "wait_interval": 0
     }
    },
    "colab_type": "code",
    "id": "r1OW98m83XcP"
   },
   "outputs": [],
   "source": [
    "test_data_path='/home/somit/Desktop/Integrand/31/Images'\n",
    "test_data=[]\n",
    "for impath in os.listdir(test_data_path):\n",
    "    filename=os.path.join(test_data_path,impath)\n",
    "    img=cv2.imread(filename, cv2.IMREAD_GRAYSCALE)\n",
    "    img=cv2.bitwise_not(img)\n",
    "    img=img.reshape(16,16,1)\n",
    "    test_data.append(img)\n",
    "test_data=np.array(test_data,dtype=\"float\")/255.0"
   ]
  },
  {
   "cell_type": "code",
   "execution_count": 0,
   "metadata": {
    "colab": {
     "autoexec": {
      "startup": false,
      "wait_interval": 0
     }
    },
    "colab_type": "code",
    "id": "1YS4dld43Xcb",
    "outputId": "1ab4b527-b8e1-4472-bde4-fdb80e43e14a"
   },
   "outputs": [
    {
     "data": {
      "text/plain": [
       "array([[[0.        ],\n",
       "        [0.        ],\n",
       "        [0.        ],\n",
       "        [0.        ],\n",
       "        [0.        ],\n",
       "        [0.        ],\n",
       "        [0.        ],\n",
       "        [0.        ],\n",
       "        [0.        ],\n",
       "        [0.        ],\n",
       "        [0.        ],\n",
       "        [0.        ],\n",
       "        [0.        ],\n",
       "        [0.        ],\n",
       "        [0.        ],\n",
       "        [0.        ]],\n",
       "\n",
       "       [[0.        ],\n",
       "        [0.        ],\n",
       "        [0.        ],\n",
       "        [0.        ],\n",
       "        [0.        ],\n",
       "        [0.        ],\n",
       "        [0.        ],\n",
       "        [0.        ],\n",
       "        [0.        ],\n",
       "        [0.        ],\n",
       "        [0.        ],\n",
       "        [0.        ],\n",
       "        [0.        ],\n",
       "        [0.        ],\n",
       "        [0.        ],\n",
       "        [0.        ]],\n",
       "\n",
       "       [[0.        ],\n",
       "        [0.        ],\n",
       "        [0.        ],\n",
       "        [0.        ],\n",
       "        [0.        ],\n",
       "        [0.        ],\n",
       "        [0.        ],\n",
       "        [0.        ],\n",
       "        [0.        ],\n",
       "        [0.        ],\n",
       "        [0.        ],\n",
       "        [0.        ],\n",
       "        [0.        ],\n",
       "        [0.        ],\n",
       "        [0.        ],\n",
       "        [0.        ]],\n",
       "\n",
       "       [[0.        ],\n",
       "        [0.        ],\n",
       "        [0.        ],\n",
       "        [0.        ],\n",
       "        [0.        ],\n",
       "        [0.        ],\n",
       "        [0.        ],\n",
       "        [0.        ],\n",
       "        [0.        ],\n",
       "        [0.        ],\n",
       "        [0.        ],\n",
       "        [0.        ],\n",
       "        [0.        ],\n",
       "        [0.        ],\n",
       "        [0.        ],\n",
       "        [0.        ]],\n",
       "\n",
       "       [[0.        ],\n",
       "        [0.94901961],\n",
       "        [1.        ],\n",
       "        [0.92156863],\n",
       "        [0.94117647],\n",
       "        [0.92941176],\n",
       "        [1.        ],\n",
       "        [1.        ],\n",
       "        [0.95686275],\n",
       "        [1.        ],\n",
       "        [0.47058824],\n",
       "        [0.        ],\n",
       "        [0.        ],\n",
       "        [0.        ],\n",
       "        [0.        ],\n",
       "        [0.        ]],\n",
       "\n",
       "       [[0.        ],\n",
       "        [0.6       ],\n",
       "        [0.57647059],\n",
       "        [0.56078431],\n",
       "        [0.64705882],\n",
       "        [1.        ],\n",
       "        [0.57647059],\n",
       "        [0.59215686],\n",
       "        [0.57647059],\n",
       "        [0.58823529],\n",
       "        [0.30588235],\n",
       "        [0.        ],\n",
       "        [0.        ],\n",
       "        [0.        ],\n",
       "        [0.        ],\n",
       "        [0.        ]],\n",
       "\n",
       "       [[0.        ],\n",
       "        [0.00784314],\n",
       "        [0.        ],\n",
       "        [0.        ],\n",
       "        [0.2745098 ],\n",
       "        [1.        ],\n",
       "        [0.        ],\n",
       "        [0.        ],\n",
       "        [0.02352941],\n",
       "        [0.01568627],\n",
       "        [0.01960784],\n",
       "        [0.        ],\n",
       "        [0.        ],\n",
       "        [0.        ],\n",
       "        [0.        ],\n",
       "        [0.        ]],\n",
       "\n",
       "       [[0.        ],\n",
       "        [0.02352941],\n",
       "        [0.00784314],\n",
       "        [0.        ],\n",
       "        [0.28235294],\n",
       "        [0.98823529],\n",
       "        [0.        ],\n",
       "        [0.01176471],\n",
       "        [0.00392157],\n",
       "        [0.05098039],\n",
       "        [0.        ],\n",
       "        [0.        ],\n",
       "        [0.        ],\n",
       "        [0.        ],\n",
       "        [0.        ],\n",
       "        [0.        ]],\n",
       "\n",
       "       [[0.        ],\n",
       "        [0.        ],\n",
       "        [0.00392157],\n",
       "        [0.00784314],\n",
       "        [0.25882353],\n",
       "        [0.99215686],\n",
       "        [0.        ],\n",
       "        [0.00784314],\n",
       "        [0.        ],\n",
       "        [0.        ],\n",
       "        [0.00784314],\n",
       "        [0.        ],\n",
       "        [0.        ],\n",
       "        [0.        ],\n",
       "        [0.        ],\n",
       "        [0.        ]],\n",
       "\n",
       "       [[0.        ],\n",
       "        [0.04705882],\n",
       "        [0.        ],\n",
       "        [0.00784314],\n",
       "        [0.26666667],\n",
       "        [1.        ],\n",
       "        [0.        ],\n",
       "        [0.        ],\n",
       "        [0.00392157],\n",
       "        [0.        ],\n",
       "        [0.        ],\n",
       "        [0.        ],\n",
       "        [0.        ],\n",
       "        [0.        ],\n",
       "        [0.        ],\n",
       "        [0.        ]],\n",
       "\n",
       "       [[0.        ],\n",
       "        [0.04705882],\n",
       "        [0.        ],\n",
       "        [0.00784314],\n",
       "        [0.26666667],\n",
       "        [1.        ],\n",
       "        [0.        ],\n",
       "        [0.        ],\n",
       "        [0.00392157],\n",
       "        [0.        ],\n",
       "        [0.        ],\n",
       "        [0.        ],\n",
       "        [0.        ],\n",
       "        [0.        ],\n",
       "        [0.        ],\n",
       "        [0.        ]],\n",
       "\n",
       "       [[0.        ],\n",
       "        [0.        ],\n",
       "        [0.00784314],\n",
       "        [0.        ],\n",
       "        [0.3254902 ],\n",
       "        [0.99607843],\n",
       "        [0.02745098],\n",
       "        [0.01176471],\n",
       "        [0.        ],\n",
       "        [0.        ],\n",
       "        [0.03137255],\n",
       "        [0.        ],\n",
       "        [0.        ],\n",
       "        [0.        ],\n",
       "        [0.        ],\n",
       "        [0.        ]],\n",
       "\n",
       "       [[0.        ],\n",
       "        [0.02352941],\n",
       "        [0.        ],\n",
       "        [0.00392157],\n",
       "        [0.27843137],\n",
       "        [1.        ],\n",
       "        [0.        ],\n",
       "        [0.        ],\n",
       "        [0.        ],\n",
       "        [0.01568627],\n",
       "        [0.        ],\n",
       "        [0.        ],\n",
       "        [0.        ],\n",
       "        [0.        ],\n",
       "        [0.        ],\n",
       "        [0.        ]],\n",
       "\n",
       "       [[0.        ],\n",
       "        [0.        ],\n",
       "        [0.        ],\n",
       "        [0.        ],\n",
       "        [0.30980392],\n",
       "        [0.99607843],\n",
       "        [0.05490196],\n",
       "        [0.02352941],\n",
       "        [0.        ],\n",
       "        [0.0627451 ],\n",
       "        [0.05490196],\n",
       "        [0.        ],\n",
       "        [0.        ],\n",
       "        [0.        ],\n",
       "        [0.        ],\n",
       "        [0.        ]],\n",
       "\n",
       "       [[0.        ],\n",
       "        [0.01176471],\n",
       "        [0.03921569],\n",
       "        [0.        ],\n",
       "        [0.27843137],\n",
       "        [0.98823529],\n",
       "        [0.02352941],\n",
       "        [0.        ],\n",
       "        [0.        ],\n",
       "        [0.        ],\n",
       "        [0.        ],\n",
       "        [0.        ],\n",
       "        [0.        ],\n",
       "        [0.        ],\n",
       "        [0.        ],\n",
       "        [0.        ]],\n",
       "\n",
       "       [[0.        ],\n",
       "        [0.01176471],\n",
       "        [0.        ],\n",
       "        [0.05882353],\n",
       "        [0.11372549],\n",
       "        [0.94117647],\n",
       "        [0.05490196],\n",
       "        [0.05098039],\n",
       "        [0.        ],\n",
       "        [0.01568627],\n",
       "        [0.25490196],\n",
       "        [0.        ],\n",
       "        [0.        ],\n",
       "        [0.        ],\n",
       "        [0.        ],\n",
       "        [0.        ]]])"
      ]
     },
     "execution_count": 43,
     "metadata": {
      "tags": []
     },
     "output_type": "execute_result"
    }
   ],
   "source": [
    "# test_data=np.array(test_data).astype(np.float)/255.0\n",
    "# np.array(img, dtype = \"float\") /255.0\n",
    "test_data[0]"
   ]
  },
  {
   "cell_type": "code",
   "execution_count": 0,
   "metadata": {
    "colab": {
     "autoexec": {
      "startup": false,
      "wait_interval": 0
     }
    },
    "colab_type": "code",
    "id": "SzZqpsam3Xcp"
   },
   "outputs": [],
   "source": [
    "# img"
   ]
  },
  {
   "cell_type": "code",
   "execution_count": 0,
   "metadata": {
    "colab": {
     "autoexec": {
      "startup": false,
      "wait_interval": 0
     }
    },
    "colab_type": "code",
    "id": "m3PKIDYM3XdA",
    "outputId": "243325dd-5175-4eaf-a83d-bd51bf2ced76"
   },
   "outputs": [
    {
     "name": "stdout",
     "output_type": "stream",
     "text": [
      "1139/1139 [==============================] - 0s 177us/step\n"
     ]
    }
   ],
   "source": [
    "encoded_labels=model.predict(test_data,batch_size=64, verbose=1,steps=None)\n",
    "final_labels=lb.inverse_transform(encoded_labels)"
   ]
  },
  {
   "cell_type": "code",
   "execution_count": 0,
   "metadata": {
    "colab": {
     "autoexec": {
      "startup": false,
      "wait_interval": 0
     }
    },
    "colab_type": "code",
    "id": "zZoRB5NJ3Xdj"
   },
   "outputs": [],
   "source": [
    "#final_labels"
   ]
  },
  {
   "cell_type": "code",
   "execution_count": 0,
   "metadata": {
    "colab": {
     "autoexec": {
      "startup": false,
      "wait_interval": 0
     }
    },
    "colab_type": "code",
    "id": "nazWIDEL3Xd6",
    "outputId": "ce4f9a79-a6fe-49ac-e60a-18b5316c1757"
   },
   "outputs": [
    {
     "name": "stdout",
     "output_type": "stream",
     "text": [
      "40\n",
      "33\n",
      "T\n",
      "O\n"
     ]
    }
   ],
   "source": [
    "print np.argmax(encoded_labels[0])\n",
    "print np.argmax(encoded_labels[1])\n",
    "print final_labels[0]\n",
    "print final_labels[1]\n",
    "# for i in range(len(final_labels)):\n",
    "#     print (np.argmax(encoded_labels[i]),final_labels[i])\n",
    "# for probabilities in encoded_labels:\n",
    "#     print max(probabilities)"
   ]
  },
  {
   "cell_type": "code",
   "execution_count": 0,
   "metadata": {
    "colab": {
     "autoexec": {
      "startup": false,
      "wait_interval": 0
     }
    },
    "colab_type": "code",
    "id": "HCZiAOsi3Xee",
    "outputId": "4032301e-a9e4-4fa7-bc80-7be807c51e32"
   },
   "outputs": [
    {
     "name": "stdout",
     "output_type": "stream",
     "text": [
      "(1139, 16, 16, 1)\n",
      "1139\n"
     ]
    }
   ],
   "source": [
    "print test_data.shape\n",
    "print len(final_labels)"
   ]
  },
  {
   "cell_type": "code",
   "execution_count": 0,
   "metadata": {
    "colab": {
     "autoexec": {
      "startup": false,
      "wait_interval": 0
     }
    },
    "colab_type": "code",
    "id": "l1nGf-ko3Xfh"
   },
   "outputs": [],
   "source": [
    "Image_predictions='/home/somit/Desktop/Integrand/31/Predictions_with_Inversion'\n",
    "if not os.path.isdir(Image_predictions):\n",
    "    os.makedirs(Image_predictions)\n",
    "def clear_predictions():\n",
    "    for files in os.listdir(Image_predictions):\n",
    "        os.unlink(os.path.join(Image_predictions,files))"
   ]
  },
  {
   "cell_type": "code",
   "execution_count": 0,
   "metadata": {
    "colab": {
     "autoexec": {
      "startup": false,
      "wait_interval": 0
     }
    },
    "colab_type": "code",
    "id": "ow1LuJwa3Xft"
   },
   "outputs": [],
   "source": [
    "clear_predictions()\n",
    "i=0\n",
    "for images in os.listdir(test_data_path):\n",
    "    filename=os.path.join(test_data_path,images)\n",
    "    img=cv2.imread(filename,0)\n",
    "    cv2.imwrite(os.path.join(Image_predictions,\"Label \"+str(i)+\" = \"+final_labels[i]+\".jpg\"),img)\n",
    "    i+=1 "
   ]
  },
  {
   "cell_type": "code",
   "execution_count": 0,
   "metadata": {
    "colab": {
     "autoexec": {
      "startup": false,
      "wait_interval": 0
     }
    },
    "colab_type": "code",
    "id": "FpcaHHqv3Xfy",
    "outputId": "3bd5bd15-b28e-44d4-e2b5-e8638c4c79ab"
   },
   "outputs": [
    {
     "data": {
      "text/plain": [
       "{'character': 'W', 'confidence': 0.9808153}"
      ]
     },
     "execution_count": 143,
     "metadata": {
      "tags": []
     },
     "output_type": "execute_result"
    }
   ],
   "source": [
    "predictions=[]\n",
    "for i in range(len(final_labels)):\n",
    "    predictions.append({'character':final_labels[i],'confidence':max(encoded_labels[i])})\n",
    "    \n",
    "predictions[0]"
   ]
  },
  {
   "cell_type": "code",
   "execution_count": 0,
   "metadata": {
    "colab": {
     "autoexec": {
      "startup": false,
      "wait_interval": 0
     }
    },
    "colab_type": "code",
    "id": "dl7jcOng3Xf-",
    "outputId": "457480cb-5717-4f31-b6d2-164ee3101ed5"
   },
   "outputs": [
    {
     "name": "stdout",
     "output_type": "stream",
     "text": [
      "Loaded model from disk\n"
     ]
    }
   ],
   "source": [
    "from keras.models import load_model\n",
    "from keras.models import model_from_json\n",
    "#model = load_model('/home/vishal/model.h5')\n",
    "\n",
    "# load json and create model\n",
    "json_file = open('model1.json', 'r')\n",
    "\n",
    "loaded_model_json = json_file.read()\n",
    "json_file.close()\n",
    "loaded_model = model_from_json(loaded_model_json)\n",
    "\n",
    "# load weights into new model\n",
    "loaded_model.load_weights(\"model1.h5\")\n",
    "print(\"Loaded model from disk\")\n",
    "\n",
    "model.save('model1_OCR.hdf5')\n",
    "#loaded_model=load_model('model1_OCR.hdf5')"
   ]
  },
  {
   "cell_type": "code",
   "execution_count": 0,
   "metadata": {
    "colab": {
     "autoexec": {
      "startup": false,
      "wait_interval": 0
     }
    },
    "colab_type": "code",
    "id": "-_rPjbZi3XgU"
   },
   "outputs": [],
   "source": []
  }
 ],
 "metadata": {
  "accelerator": "GPU",
  "colab": {
   "collapsed_sections": [],
   "default_view": {},
   "name": "ColabModel.ipynb",
   "provenance": [],
   "version": "0.3.2",
   "views": {}
  },
  "kernelspec": {
   "display_name": "Python 2",
   "language": "python",
   "name": "python2"
  },
  "language_info": {
   "codemirror_mode": {
    "name": "ipython",
    "version": 2
   },
   "file_extension": ".py",
   "mimetype": "text/x-python",
   "name": "python",
   "nbconvert_exporter": "python",
   "pygments_lexer": "ipython2",
   "version": "2.7.12"
  }
 },
 "nbformat": 4,
 "nbformat_minor": 1
}
